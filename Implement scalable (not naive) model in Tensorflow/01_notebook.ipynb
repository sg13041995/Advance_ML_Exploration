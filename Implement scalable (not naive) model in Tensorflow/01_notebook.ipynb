{
 "cells": [
  {
   "cell_type": "markdown",
   "metadata": {},
   "source": [
    "### References"
   ]
  },
  {
   "cell_type": "markdown",
   "metadata": {},
   "source": [
    "**Book:**\n",
    "- Deep Learning with Python, Second Edition\n",
    "  - Book by François Chollet\n",
    "  - François Chollet is a French software engineer and artificial intelligence researcher currently working at Google. Chollet is the creator of the Keras deep-learning library, released in 2015, and a main contributor to the TensorFlow machine learning framework.\n"
   ]
  },
  {
   "cell_type": "markdown",
   "metadata": {},
   "source": [
    "## Code"
   ]
  },
  {
   "cell_type": "markdown",
   "metadata": {},
   "source": [
    "### Imports"
   ]
  },
  {
   "cell_type": "code",
   "execution_count": 28,
   "metadata": {},
   "outputs": [],
   "source": [
    "import numpy as np\n",
    "import matplotlib.pyplot as plt\n",
    "import tensorflow as tf\n",
    "from tensorflow import keras"
   ]
  },
  {
   "cell_type": "markdown",
   "metadata": {},
   "source": [
    "### Tensorflow Constants"
   ]
  },
  {
   "cell_type": "code",
   "execution_count": 2,
   "metadata": {},
   "outputs": [
    {
     "name": "stdout",
     "output_type": "stream",
     "text": [
      "tf.Tensor(\n",
      "[[1.]\n",
      " [1.]], shape=(2, 1), dtype=float32)\n"
     ]
    }
   ],
   "source": [
    "# Tensor of ones\n",
    "x = tf.ones(shape=(2, 1))\n",
    "print(x)"
   ]
  },
  {
   "cell_type": "code",
   "execution_count": 3,
   "metadata": {},
   "outputs": [
    {
     "name": "stdout",
     "output_type": "stream",
     "text": [
      "tf.Tensor(\n",
      "[[0.]\n",
      " [0.]], shape=(2, 1), dtype=float32)\n"
     ]
    }
   ],
   "source": [
    "# Tensor of zeros\n",
    "x = tf.zeros(shape=(2, 1))\n",
    "print(x)"
   ]
  },
  {
   "cell_type": "code",
   "execution_count": 4,
   "metadata": {},
   "outputs": [
    {
     "name": "stdout",
     "output_type": "stream",
     "text": [
      "tf.Tensor(\n",
      "[[0.9830269 ]\n",
      " [0.61367077]\n",
      " [1.1048163 ]], shape=(3, 1), dtype=float32)\n",
      "\n",
      "tf.Tensor(\n",
      "[[0.33227432]\n",
      " [0.97988236]\n",
      " [0.46070898]], shape=(3, 1), dtype=float32)\n"
     ]
    }
   ],
   "source": [
    "# Tensors of values drawn from a random distribution\n",
    "\n",
    "# Normal Distribution\n",
    "x = tf.random.normal(shape=(3, 1), mean=0., stddev=1.)\n",
    "print(x)\n",
    "\n",
    "print()\n",
    "\n",
    "# Uniform Distribution\n",
    "x = tf.random.uniform(shape=(3, 1), minval=0., maxval=1.)\n",
    "print(x)"
   ]
  },
  {
   "cell_type": "markdown",
   "metadata": {},
   "source": [
    "A significant difference between NumPy arrays and TensorFlow tensors is that Tensor-Flow tensors aren’t assignable: they’re constant"
   ]
  },
  {
   "cell_type": "markdown",
   "metadata": {},
   "source": [
    "### Tensorflow Variable"
   ]
  },
  {
   "cell_type": "code",
   "execution_count": 5,
   "metadata": {},
   "outputs": [
    {
     "name": "stdout",
     "output_type": "stream",
     "text": [
      "<tf.Variable 'Variable:0' shape=(3, 1) dtype=float32, numpy=\n",
      "array([[ 0.73061377],\n",
      "       [-1.2328795 ],\n",
      "       [-0.9911123 ]], dtype=float32)>\n"
     ]
    }
   ],
   "source": [
    "v = tf.Variable(initial_value=tf.random.normal(shape=(3, 1)))\n",
    "print(v)"
   ]
  },
  {
   "cell_type": "code",
   "execution_count": 6,
   "metadata": {},
   "outputs": [
    {
     "name": "stdout",
     "output_type": "stream",
     "text": [
      "<tf.Variable 'Variable:0' shape=(3, 1) dtype=float32, numpy=\n",
      "array([[1.],\n",
      "       [1.],\n",
      "       [1.]], dtype=float32)>\n"
     ]
    }
   ],
   "source": [
    "# Updating the values\n",
    "v.assign(tf.ones((3, 1)))\n",
    "print(v)"
   ]
  },
  {
   "cell_type": "code",
   "execution_count": 7,
   "metadata": {},
   "outputs": [
    {
     "name": "stdout",
     "output_type": "stream",
     "text": [
      "<tf.Variable 'Variable:0' shape=(3, 1) dtype=float32, numpy=\n",
      "array([[3.],\n",
      "       [1.],\n",
      "       [1.]], dtype=float32)>\n"
     ]
    }
   ],
   "source": [
    "# Updating value to a subset\n",
    "v[0, 0].assign(3.)\n",
    "print(v)"
   ]
  },
  {
   "cell_type": "code",
   "execution_count": 9,
   "metadata": {},
   "outputs": [
    {
     "name": "stdout",
     "output_type": "stream",
     "text": [
      "<tf.Variable 'Variable:0' shape=(3, 1) dtype=float32, numpy=\n",
      "array([[4.],\n",
      "       [2.],\n",
      "       [2.]], dtype=float32)>\n"
     ]
    }
   ],
   "source": [
    "# assign_add() and assign_sub() are efficient equivalents of += and -=\n",
    "v.assign_add(tf.ones((3, 1)))\n",
    "\n",
    "print(v)"
   ]
  },
  {
   "cell_type": "code",
   "execution_count": 16,
   "metadata": {},
   "outputs": [
    {
     "name": "stdout",
     "output_type": "stream",
     "text": [
      "tf.Tensor(\n",
      "[[1. 1.]\n",
      " [1. 1.]], shape=(2, 2), dtype=float32) \n",
      "\n",
      "tf.Tensor(\n",
      "[[2. 2.]\n",
      " [2. 2.]], shape=(2, 2), dtype=float32) \n",
      "\n",
      "tf.Tensor(\n",
      "[[4. 4.]\n",
      " [4. 4.]], shape=(2, 2), dtype=float32) \n",
      "\n",
      "tf.Tensor(\n",
      "[[2. 2.]\n",
      " [2. 2.]], shape=(2, 2), dtype=float32) \n",
      "\n",
      "tf.Tensor(\n",
      "[[6. 6.]\n",
      " [6. 6.]], shape=(2, 2), dtype=float32) \n",
      "\n",
      "tf.Tensor(\n",
      "[[16. 16.]\n",
      " [16. 16.]], shape=(2, 2), dtype=float32) \n",
      "\n",
      "tf.Tensor(\n",
      "[[96. 96.]\n",
      " [96. 96.]], shape=(2, 2), dtype=float32) \n",
      "\n"
     ]
    }
   ],
   "source": [
    "# Tensor of Ones\n",
    "a = tf.ones((2, 2))\n",
    "print(a,\"\\n\")\n",
    "\n",
    "a += 1\n",
    "print(a,\"\\n\")\n",
    "\n",
    "# Element-wise square\n",
    "b = tf.square(a)\n",
    "print(b,\"\\n\")\n",
    "\n",
    "# Element-wise square-root\n",
    "c = tf.sqrt(b)\n",
    "print(c,\"\\n\")\n",
    "\n",
    "# Element wise addition\n",
    "d = b + c\n",
    "print(d,\"\\n\")\n",
    "\n",
    "# Dot product\n",
    "e = tf.matmul(a, b)\n",
    "print(e,\"\\n\")\n",
    "\n",
    "# Element wise multiplication\n",
    "e *= d\n",
    "print(e,\"\\n\")"
   ]
  },
  {
   "cell_type": "markdown",
   "metadata": {},
   "source": [
    "### `GradientTape` with Constant Tensor "
   ]
  },
  {
   "cell_type": "markdown",
   "metadata": {},
   "source": [
    "So far, we’ve only seen the case where the input tensors in tape.gradient() were TensorFlow variables. \n",
    "\n",
    "It’s actually possible for these inputs to be any arbitrary tensor.\n",
    "\n",
    "However, only trainable variables are tracked by default. \n",
    "\n",
    "With a constant tensor, you’d have to manually mark it as being tracked by calling tape.watch() on it."
   ]
  },
  {
   "cell_type": "code",
   "execution_count": 18,
   "metadata": {},
   "outputs": [
    {
     "name": "stdout",
     "output_type": "stream",
     "text": [
      "tf.Tensor(3.0, shape=(), dtype=float32) \n",
      "\n",
      "tf.Tensor(9.0, shape=(), dtype=float32) \n",
      "\n",
      "tf.Tensor(6.0, shape=(), dtype=float32) \n",
      "\n"
     ]
    }
   ],
   "source": [
    "input_const = tf.constant(3.)\n",
    "print(input_const, \"\\n\")\n",
    "\n",
    "with tf.GradientTape() as tape:\n",
    "    # Asking to watch the constant tensor\n",
    "    tape.watch(input_const)\n",
    "    \n",
    "    # squaring the constant\n",
    "    result = tf.square(input_const)\n",
    "\n",
    "print(result, \"\\n\")\n",
    "\n",
    "# calculating the gradient\n",
    "gradient = tape.gradient(result, input_const)\n",
    "\n",
    "print(gradient, \"\\n\")"
   ]
  },
  {
   "cell_type": "markdown",
   "metadata": {},
   "source": [
    "The gradient tape is a powerful utility, even capable of computing second-order gradients, that is to say, the gradient of a gradient. \n",
    "\n",
    "For instance, the gradient of the position of an object with regard to time is the speed of that object, and the second-order gradient is its acceleration."
   ]
  },
  {
   "cell_type": "markdown",
   "metadata": {},
   "source": [
    "If you measure the position of a falling apple along a vertical axis over time and find that it verifies \n",
    "`position(time) = 4.9 * time ** 2`, \n",
    "what is its acceleration?"
   ]
  },
  {
   "cell_type": "code",
   "execution_count": 19,
   "metadata": {},
   "outputs": [
    {
     "name": "stdout",
     "output_type": "stream",
     "text": [
      "tf.Tensor(0.0, shape=(), dtype=float32) \n",
      "\n",
      "tf.Tensor(0.0, shape=(), dtype=float32) \n",
      "\n",
      "tf.Tensor(9.8, shape=(), dtype=float32) \n",
      "\n"
     ]
    }
   ],
   "source": [
    "time = tf.Variable(0.)\n",
    "\n",
    "# We use the outer tape to compute the gradient of the gradient from the inner tape\n",
    "with tf.GradientTape() as outer_tape:\n",
    "    with tf.GradientTape() as inner_tape:\n",
    "        \n",
    "        # Position variable\n",
    "        position = 4.9 * time ** 2\n",
    "\n",
    "    # First order gradient      \n",
    "    speed = inner_tape.gradient(position, time)\n",
    "\n",
    "# Second order gradient\n",
    "acceleration = outer_tape.gradient(speed, time)\n",
    "\n",
    "print(position, \"\\n\")\n",
    "print(speed, \"\\n\")\n",
    "print(acceleration, \"\\n\")"
   ]
  },
  {
   "cell_type": "markdown",
   "metadata": {},
   "source": [
    "### Scalable Tensorflow Layers"
   ]
  },
  {
   "cell_type": "markdown",
   "metadata": {},
   "source": [
    "A Layer is an object that encapsulates some state (weights) and some computation (a forward pass)\n",
    "\n",
    "The weights are typically defined in a build() (although they could also be created in the constructor, __init__ ()), and the computation is defined in the call() method."
   ]
  },
  {
   "cell_type": "code",
   "execution_count": 21,
   "metadata": {},
   "outputs": [],
   "source": [
    "# Scalable Dense Layer Class\n",
    "class SimpleDense(keras.layers.Layer):\n",
    "    # Constructor\n",
    "    def __init__(self, units, activation=None):\n",
    "        # Calling base class or parent class constructor\n",
    "        super().__init__()\n",
    "        \n",
    "        # Number of units\n",
    "        self.units = units\n",
    "\n",
    "        # Actication function\n",
    "        self.activation = activation\n",
    "\n",
    "    # Build function - Weight-Bias or State creation method\n",
    "    def build(self, input_shape):\n",
    "        input_dim = input_shape[-1]\n",
    "        # Weights\n",
    "        self.W = self.add_weight(shape=(input_dim, self.units),\n",
    "                                 initializer=\"random_normal\")\n",
    "        # Bias\n",
    "        self.b = self.add_weight(shape=(self.units,), \n",
    "                                 initializer=\"zeros\")\n",
    "    \n",
    "    # Call function - Mathematical Operations\n",
    "    def call(self, inputs):\n",
    "        # Dot Product\n",
    "        y = tf.matmul(inputs, self.W) + self.b\n",
    "        # Activation function\n",
    "        if self.activation is not None:\n",
    "            y = self.activation(y)\n",
    "        return y"
   ]
  },
  {
   "cell_type": "code",
   "execution_count": 23,
   "metadata": {},
   "outputs": [
    {
     "name": "stdout",
     "output_type": "stream",
     "text": [
      "tf.Tensor(\n",
      "[[-1.2748816   0.5843694  -0.56461126 ... -1.2491298   0.6189218\n",
      "   0.17367926]\n",
      " [ 0.89042056  1.1428471  -0.22608508 ...  0.24323204 -0.07266833\n",
      "   0.8062584 ]], shape=(2, 784), dtype=float32) \n",
      "\n",
      "tf.Tensor(\n",
      "[[-1.2748816   0.5843694  -0.56461126 ... -1.2491298   0.6189218\n",
      "   0.17367926]\n",
      " [ 0.89042056  1.1428471  -0.22608508 ...  0.24323204 -0.07266833\n",
      "   0.8062584 ]], shape=(2, 784), dtype=float32) \n",
      "\n",
      "(2, 32)\n"
     ]
    }
   ],
   "source": [
    "# Custom layer initialization - ReLU activation\n",
    "my_dense = SimpleDense(units=32, activation=tf.nn.relu)\n",
    "\n",
    "input_tensor = tf.random.normal(shape=(2, 784))\n",
    "print(input_tensor,\"\\n\")\n",
    "\n",
    "output_tensor = my_dense(input_tensor)\n",
    "print(input_tensor,\"\\n\")\n",
    "print(output_tensor.shape)"
   ]
  },
  {
   "cell_type": "markdown",
   "metadata": {},
   "source": [
    "We have separately implemented `call()` and `build()` (not creating state in constructor) because we want to be able to create the state (weights and bias) just in time and we don't want to mention the shape of the input for different layers explicitly as follows.\n",
    "\n",
    "```\n",
    "model = NaiveSequential([\n",
    "NaiveDense(input_size=784, output_size=32, activation=\"relu\"),\n",
    "NaiveDense(input_size=32, output_size=64, activation=\"relu\"),\n",
    "NaiveDense(input_size=64, output_size=32, activation=\"relu\"),\n",
    "NaiveDense(input_size=32, output_size=10, activation=\"softmax\")\n",
    "])\n",
    "```\n",
    "\n",
    "The __call__() method of the base layer schematically looks like this\n",
    "```\n",
    "def __call__(self, inputs):\n",
    "    if not self.built:\n",
    "        self.build(inputs.shape)\n",
    "        self.built = True\n",
    "    return self.call(inputs)\n",
    "```\n",
    "\n",
    "The dedicated state-creation method, `build()` receives an argument the first input_shape seen by the layer.\n",
    "\n",
    "The build() method is called automatically the first time the layer is called (via its `__call__() `method).\n",
    "\n",
    "In fact, that’s why we defined the computation in a separate call() method rather than in the `__call__`() method directly."
   ]
  },
  {
   "cell_type": "markdown",
   "metadata": {},
   "source": [
    "### Preparing Validation Data"
   ]
  },
  {
   "cell_type": "markdown",
   "metadata": {},
   "source": [
    "#### Generating Two Classes of Random Points in a 2D Plane"
   ]
  },
  {
   "cell_type": "code",
   "execution_count": 25,
   "metadata": {},
   "outputs": [],
   "source": [
    "# Generating samples\n",
    "\n",
    "num_samples_per_class = 1000\n",
    "\n",
    "negative_samples = np.random.multivariate_normal(mean=[0, 3], \n",
    "                                                 cov=[[1, 0.5],\n",
    "                                                      [0.5, 1]],\n",
    "                                                 size=num_samples_per_class)\n",
    "\n",
    "positive_samples = np.random.multivariate_normal(mean=[3, 0],\n",
    "                                                 cov=[[1, 0.5],\n",
    "                                                      [0.5, 1]],\n",
    "                                                      size=num_samples_per_class)"
   ]
  },
  {
   "cell_type": "code",
   "execution_count": 26,
   "metadata": {},
   "outputs": [],
   "source": [
    "# Stacking samples (Positive and Negative)\n",
    "\n",
    "inputs = np.vstack((negative_samples, positive_samples)).astype(np.float32)"
   ]
  },
  {
   "cell_type": "code",
   "execution_count": 27,
   "metadata": {},
   "outputs": [],
   "source": [
    "# Creating labels for the samples\n",
    "\n",
    "targets = np.vstack((np.zeros((num_samples_per_class, 1), dtype=\"float32\"),\n",
    "                     np.ones((num_samples_per_class, 1), dtype=\"float32\")))"
   ]
  },
  {
   "cell_type": "code",
   "execution_count": 29,
   "metadata": {},
   "outputs": [
    {
     "data": {
      "image/png": "[encoded data removed]",
      "text/plain": [
       "<Figure size 640x480 with 1 Axes>"
      ]
     },
     "metadata": {},
     "output_type": "display_data"
    }
   ],
   "source": [
    "# Plotting the examples\n",
    "\n",
    "plt.scatter(inputs[:, 0],\n",
    "            inputs[:, 1],\n",
    "            c=targets[:, 0])\n",
    "plt.show()"
   ]
  },
  {
   "cell_type": "markdown",
   "metadata": {},
   "source": [
    "#### Validation Data Preparation"
   ]
  },
  {
   "cell_type": "code",
   "execution_count": 31,
   "metadata": {},
   "outputs": [
    {
     "name": "stdout",
     "output_type": "stream",
     "text": [
      "[ 964  308 1060 1226  186  104 1555 1120 1339   68] \n",
      "\n",
      "[[-0.04314717  4.804092  ]\n",
      " [-0.9777816   3.2438953 ]\n",
      " [ 1.7890567  -1.3752275 ]\n",
      " [ 3.3369958   0.55426896]\n",
      " [-1.115207    3.3414268 ]\n",
      " [ 0.8780276   3.1226444 ]\n",
      " [ 3.2454596   0.7274504 ]\n",
      " [ 3.297895    2.1744335 ]\n",
      " [ 3.0571454   1.0126326 ]\n",
      " [-0.6250172   3.3635604 ]]\n",
      "[[0.]\n",
      " [0.]\n",
      " [1.]\n",
      " [1.]\n",
      " [0.]\n",
      " [0.]\n",
      " [1.]\n",
      " [1.]\n",
      " [1.]\n",
      " [0.]]\n"
     ]
    }
   ],
   "source": [
    "# Generating random indices for shuffling the complete dataset\n",
    "indices_permutation = np.random.permutation(len(inputs))\n",
    "print(indices_permutation[:10],\"\\n\")\n",
    "\n",
    "# Selecting input and target based on the random indices\n",
    "shuffled_inputs = inputs[indices_permutation]\n",
    "shuffled_targets = targets[indices_permutation]\n",
    "\n",
    "print(shuffled_inputs[:10])\n",
    "print(shuffled_targets[:10])"
   ]
  },
  {
   "cell_type": "code",
   "execution_count": 33,
   "metadata": {},
   "outputs": [
    {
     "name": "stdout",
     "output_type": "stream",
     "text": [
      "600 \n",
      "\n",
      "[[-0.04314717  4.804092  ]\n",
      " [-0.9777816   3.2438953 ]\n",
      " [ 1.7890567  -1.3752275 ]\n",
      " [ 3.3369958   0.55426896]\n",
      " [-1.115207    3.3414268 ]] \n",
      "\n",
      "[[0.]\n",
      " [0.]\n",
      " [1.]\n",
      " [1.]\n",
      " [0.]] \n",
      "\n",
      "[[ 0.9856059   3.107589  ]\n",
      " [-0.0625847   4.2315984 ]\n",
      " [ 2.515049    0.8297901 ]\n",
      " [-0.34852594  1.9892151 ]\n",
      " [ 1.5689551  -0.62147254]] \n",
      "\n",
      "[[0.]\n",
      " [0.]\n",
      " [1.]\n",
      " [0.]\n",
      " [1.]] \n",
      "\n"
     ]
    }
   ],
   "source": [
    "# length of the validation dataset\n",
    "num_validation_samples = int(0.3 * len(inputs))\n",
    "print(num_validation_samples, \"\\n\")\n",
    "\n",
    "# selecting data for validation\n",
    "val_inputs = shuffled_inputs[:num_validation_samples]\n",
    "val_targets = shuffled_targets[:num_validation_samples]\n",
    "print(val_inputs[:5], \"\\n\")\n",
    "print(val_targets[:5], \"\\n\")\n",
    "\n",
    "# Selecting data for training\n",
    "training_inputs = shuffled_inputs[num_validation_samples:]\n",
    "training_targets = shuffled_targets[num_validation_samples:]\n",
    "print(training_inputs[:5], \"\\n\")\n",
    "print(training_targets[:5], \"\\n\")"
   ]
  },
  {
   "cell_type": "code",
   "execution_count": 34,
   "metadata": {},
   "outputs": [],
   "source": [
    "# Model\n",
    "model = keras.Sequential(\n",
    "    [\n",
    "        keras.layers.Dense(1)\n",
    "        ])\n",
    "\n",
    "# Compile\n",
    "model.compile(optimizer=keras.optimizers.RMSprop(learning_rate=0.1),\n",
    "              loss=keras.losses.MeanSquaredError(),\n",
    "              metrics=[keras.metrics.BinaryAccuracy()])"
   ]
  },
  {
   "cell_type": "code",
   "execution_count": 35,
   "metadata": {},
   "outputs": [
    {
     "name": "stdout",
     "output_type": "stream",
     "text": [
      "Epoch 1/5\n",
      "WARNING:tensorflow:From c:\\Users\\hp\\AppData\\Local\\Programs\\Python\\Python310\\lib\\site-packages\\keras\\src\\utils\\tf_utils.py:492: The name tf.ragged.RaggedTensorValue is deprecated. Please use tf.compat.v1.ragged.RaggedTensorValue instead.\n",
      "\n",
      "88/88 [==============================] - 2s 7ms/step - loss: 0.3160 - binary_accuracy: 0.9771 - val_loss: 0.0354 - val_binary_accuracy: 0.9983\n",
      "Epoch 2/5\n",
      "88/88 [==============================] - 0s 5ms/step - loss: 0.0711 - binary_accuracy: 0.9621 - val_loss: 0.0417 - val_binary_accuracy: 0.9983\n",
      "Epoch 3/5\n",
      "88/88 [==============================] - 0s 3ms/step - loss: 0.0705 - binary_accuracy: 0.9629 - val_loss: 0.0799 - val_binary_accuracy: 0.9233\n",
      "Epoch 4/5\n",
      "88/88 [==============================] - 0s 3ms/step - loss: 0.0698 - binary_accuracy: 0.9614 - val_loss: 0.0374 - val_binary_accuracy: 0.9883\n",
      "Epoch 5/5\n",
      "88/88 [==============================] - 0s 4ms/step - loss: 0.0669 - binary_accuracy: 0.9629 - val_loss: 0.1542 - val_binary_accuracy: 0.7433\n"
     ]
    },
    {
     "data": {
      "text/plain": [
       "<keras.src.callbacks.History at 0x1af16356c20>"
      ]
     },
     "execution_count": 35,
     "metadata": {},
     "output_type": "execute_result"
    }
   ],
   "source": [
    "model.fit(\n",
    "    training_inputs,\n",
    "    training_targets,\n",
    "    epochs=5,\n",
    "    batch_size=16,\n",
    "    \n",
    "    # Using validation data\n",
    "    validation_data=(val_inputs, val_targets)\n",
    ")"
   ]
  },
  {
   "cell_type": "markdown",
   "metadata": {},
   "source": [
    "If you want to compute the validation loss and metrics after the training is complete, you can call the `evaluate()` method:"
   ]
  },
  {
   "cell_type": "code",
   "execution_count": 36,
   "metadata": {},
   "outputs": [
    {
     "name": "stdout",
     "output_type": "stream",
     "text": [
      "5/5 [==============================] - 0s 10ms/step - loss: 0.1542 - binary_accuracy: 0.7433\n",
      "[0.15417931973934174, 0.7433333396911621]\n"
     ]
    }
   ],
   "source": [
    "loss_and_metrics = model.evaluate(val_inputs, val_targets, batch_size=128)\n",
    "print(loss_and_metrics)"
   ]
  },
  {
   "cell_type": "markdown",
   "metadata": {},
   "source": [
    "**Inference**: Using a model after training"
   ]
  },
  {
   "cell_type": "code",
   "execution_count": null,
   "metadata": {},
   "outputs": [],
   "source": [
    "# Some new input - Numpy array or dataset\n",
    "new_inputs = \"\"\n",
    "\n",
    "# returns a NumPy array\n",
    "predictions = model.predict(new_inputs, batch_size=128)"
   ]
  }
 ],
 "metadata": {
  "kernelspec": {
   "display_name": "Python 3",
   "language": "python",
   "name": "python3"
  },
  "language_info": {
   "codemirror_mode": {
    "name": "ipython",
    "version": 3
   },
   "file_extension": ".py",
   "mimetype": "text/x-python",
   "name": "python",
   "nbconvert_exporter": "python",
   "pygments_lexer": "ipython3",
   "version": "3.10.11"
  }
 },
 "nbformat": 4,
 "nbformat_minor": 2
}
