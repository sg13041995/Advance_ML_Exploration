{
 "cells": [
  {
   "cell_type": "markdown",
   "metadata": {},
   "source": [
    "### References"
   ]
  },
  {
   "cell_type": "markdown",
   "metadata": {},
   "source": [
    "**Book:**\n",
    "- Deep Learning with Python, Second Edition\n",
    "  - Book by François Chollet\n",
    "  - François Chollet is a French software engineer and artificial intelligence researcher currently working at Google. Chollet is the creator of the Keras deep-learning library, released in 2015, and a main contributor to the TensorFlow machine learning framework.\n"
   ]
  },
  {
   "cell_type": "markdown",
   "metadata": {},
   "source": [
    "### What went wrong in ANN and Convnets?"
   ]
  },
  {
   "cell_type": "markdown",
   "metadata": {},
   "source": [
    "We can try out 1D convnets for the same timeseries modeling that we performed with ANNs\n",
    "\n",
    "As it turns out, 1D convnet model performs even worse than the densely connected one, only achieving a validation MAE of about 2.9 degrees, far from the common-sense baseline."
   ]
  },
  {
   "cell_type": "markdown",
   "metadata": {},
   "source": [
    "**What went wrong here?**\n",
    "1. First, weather data doesn’t quite respect the translation invariance assumption. While the data does feature daily cycles, data from a morning follows different properties than data from an evening or from the middle of the night. Weather data is only translation-invariant for a very specific timescale.\n",
    "2. Second, order in our data matters—a lot. The recent past is far more informa-\n",
    "tive for predicting the next day’s temperature than data from five days ago. A 1D convnet is not able to leverage this fact. In particular, our max pooling and global average pooling layers are largely destroying order information.\n",
    "\n",
    "Neither the fully connected approach nor the convolutional approach did well, but that doesn’t mean machine learning isn’t applicable to this problem. \n",
    "\n",
    "The densely connected approach first flattened the timeseries, which removed the notion of time from the input data. \n",
    "\n",
    "The convolutional approach treated every segment of the data in the same way, even applying pooling, which destroyed order information. \n",
    "\n",
    "Let’s instead look at the data as what it is: a sequence, where causality and order matter."
   ]
  },
  {
   "cell_type": "markdown",
   "metadata": {},
   "source": [
    "### Code"
   ]
  },
  {
   "cell_type": "code",
   "execution_count": 2,
   "metadata": {},
   "outputs": [
    {
     "name": "stdout",
     "output_type": "stream",
     "text": [
      "WARNING:tensorflow:From c:\\Users\\hp\\AppData\\Local\\Programs\\Python\\Python310\\lib\\site-packages\\keras\\src\\losses.py:2976: The name tf.losses.sparse_softmax_cross_entropy is deprecated. Please use tf.compat.v1.losses.sparse_softmax_cross_entropy instead.\n",
      "\n"
     ]
    }
   ],
   "source": [
    "# Imports\n",
    "import os\n",
    "import numpy as np\n",
    "import matplotlib.pyplot as plt\n",
    "import pickle\n",
    "\n",
    "from tensorflow import keras\n",
    "from tensorflow.keras import layers"
   ]
  },
  {
   "cell_type": "code",
   "execution_count": 3,
   "metadata": {},
   "outputs": [
    {
     "name": "stdout",
     "output_type": "stream",
     "text": [
      "['\"Date Time\"', '\"p (mbar)\"', '\"T (degC)\"', '\"Tpot (K)\"', '\"Tdew (degC)\"', '\"rh (%)\"', '\"VPmax (mbar)\"', '\"VPact (mbar)\"', '\"VPdef (mbar)\"', '\"sh (g/kg)\"', '\"H2OC (mmol/mol)\"', '\"rho (g/m**3)\"', '\"wv (m/s)\"', '\"max. wv (m/s)\"', '\"wd (deg)\"']\n",
      "15\n",
      "\n",
      "\n",
      "Number of samples 420451\n",
      "\n",
      "\n",
      "First sample:\n",
      " 01.01.2009 00:10:00,996.52,-8.02,265.40,-8.90,93.30,3.33,3.11,0.22,1.94,3.12,1307.75,1.03,1.75,152.30\n"
     ]
    }
   ],
   "source": [
    "# Inspecting the data of the Jena weather dataset\n",
    "\n",
    "fname = os.path.join(\"jena_climate_2009_2016.csv\")\n",
    "\n",
    "with open(fname) as f:\n",
    "    data = f.read()\n",
    "\n",
    "# Getting individual lines\n",
    "lines = data.split(\"\\n\")\n",
    "\n",
    "# First line contain headers\n",
    "header = lines[0].split(\",\")\n",
    "\n",
    "# Second to end lines are data\n",
    "lines = lines[1:]\n",
    "\n",
    "print(header)\n",
    "print(len(header))\n",
    "\n",
    "print(\"\\n\")\n",
    "\n",
    "print(\"Number of samples\",len(lines))\n",
    "\n",
    "print(\"\\n\")\n",
    "\n",
    "print(\"First sample:\\n\", lines[0])"
   ]
  },
  {
   "cell_type": "code",
   "execution_count": 4,
   "metadata": {},
   "outputs": [],
   "source": [
    "# Parsing the data - Converting into numpy arrays\n",
    "\n",
    "# Target\n",
    "temperature = np.zeros((len(lines),))\n",
    "# Features\n",
    "raw_data = np.zeros((len(lines), len(header) - 1))\n",
    "\n",
    "for i, line in enumerate(lines):\n",
    "    # Excluding date-time\n",
    "    values = [float(x) for x in line.split(\",\")[1:]]\n",
    "    \n",
    "    # We store column 1 (second column) in the “temperature” array\n",
    "    temperature[i] = values[1]\n",
    "\n",
    "    # We store all columns (including the temperature) in the “raw_data” array\n",
    "    raw_data[i, :] = values[:]"
   ]
  },
  {
   "cell_type": "code",
   "execution_count": 5,
   "metadata": {},
   "outputs": [
    {
     "name": "stdout",
     "output_type": "stream",
     "text": [
      "num_train_samples: 210225\n",
      "num_val_samples: 105112\n",
      "num_test_samples: 105114\n"
     ]
    }
   ],
   "source": [
    "# Computing the number of samples we’ll use for each data split\n",
    "\n",
    "num_train_samples = int(0.5 * len(raw_data))\n",
    "num_val_samples = int(0.25 * len(raw_data))\n",
    "num_test_samples = len(raw_data) - num_train_samples - num_val_samples\n",
    "\n",
    "print(\"num_train_samples:\", num_train_samples)\n",
    "print(\"num_val_samples:\", num_val_samples)\n",
    "print(\"num_test_samples:\", num_test_samples)"
   ]
  },
  {
   "cell_type": "code",
   "execution_count": 6,
   "metadata": {},
   "outputs": [],
   "source": [
    "# Normalizing the data\n",
    "\n",
    "mean = raw_data[:num_train_samples].mean(axis=0)\n",
    "raw_data -= mean\n",
    "\n",
    "std = raw_data[:num_train_samples].std(axis=0)\n",
    "raw_data /= std"
   ]
  },
  {
   "cell_type": "code",
   "execution_count": 7,
   "metadata": {},
   "outputs": [],
   "source": [
    "# Instantiating datasets for training, validation, and testing\n",
    "\n",
    "sampling_rate = 6\n",
    "\n",
    "# Observations will go back 5 days (120 hours)\n",
    "sequence_length = 120\n",
    "\n",
    "# Target for a sequence will be the temperature 24 hours after the end of the sequence\n",
    "delay = sampling_rate * (sequence_length + 24 - 1)\n",
    "\n",
    "batch_size = 256\n",
    "\n",
    "# Training dataset\n",
    "train_dataset = keras.utils.timeseries_dataset_from_array(\n",
    "    raw_data[:-delay],\n",
    "    targets=temperature[delay:],\n",
    "    sampling_rate=sampling_rate,\n",
    "    sequence_length=sequence_length,\n",
    "    shuffle=True,\n",
    "    batch_size=batch_size,\n",
    "    start_index=0,\n",
    "    end_index=num_train_samples)\n",
    "\n",
    "# Validation Dataset\n",
    "val_dataset = keras.utils.timeseries_dataset_from_array(\n",
    "    raw_data[:-delay],\n",
    "    targets=temperature[delay:],\n",
    "    sampling_rate=sampling_rate,\n",
    "    sequence_length=sequence_length,\n",
    "    shuffle=True,\n",
    "    batch_size=batch_size,\n",
    "    start_index=num_train_samples,\n",
    "    end_index=num_train_samples + num_val_samples)\n",
    "\n",
    "# Test dataset\n",
    "test_dataset = keras.utils.timeseries_dataset_from_array(\n",
    "    raw_data[:-delay],\n",
    "    targets=temperature[delay:],\n",
    "    sampling_rate=sampling_rate,\n",
    "    sequence_length=sequence_length,\n",
    "    shuffle=True,\n",
    "    batch_size=batch_size,\n",
    "    start_index=num_train_samples + num_val_samples)"
   ]
  },
  {
   "cell_type": "code",
   "execution_count": 8,
   "metadata": {},
   "outputs": [
    {
     "name": "stdout",
     "output_type": "stream",
     "text": [
      "samples shape: (256, 120, 14)\n",
      "targets shape: (256,)\n"
     ]
    }
   ],
   "source": [
    "# Inspecting the output of one of our datasets\n",
    "\n",
    "for samples, targets in train_dataset:\n",
    "    print(\"samples shape:\", samples.shape)\n",
    "    print(\"targets shape:\", targets.shape)\n",
    "    break"
   ]
  },
  {
   "cell_type": "code",
   "execution_count": 11,
   "metadata": {},
   "outputs": [
    {
     "name": "stdout",
     "output_type": "stream",
     "text": [
      "WARNING:tensorflow:From c:\\Users\\hp\\AppData\\Local\\Programs\\Python\\Python310\\lib\\site-packages\\keras\\src\\backend.py:1398: The name tf.executing_eagerly_outside_functions is deprecated. Please use tf.compat.v1.executing_eagerly_outside_functions instead.\n",
      "\n",
      "WARNING:tensorflow:From c:\\Users\\hp\\AppData\\Local\\Programs\\Python\\Python310\\lib\\site-packages\\keras\\src\\optimizers\\__init__.py:309: The name tf.train.Optimizer is deprecated. Please use tf.compat.v1.train.Optimizer instead.\n",
      "\n",
      "Epoch 1/10\n",
      "WARNING:tensorflow:From c:\\Users\\hp\\AppData\\Local\\Programs\\Python\\Python310\\lib\\site-packages\\keras\\src\\utils\\tf_utils.py:492: The name tf.ragged.RaggedTensorValue is deprecated. Please use tf.compat.v1.ragged.RaggedTensorValue instead.\n",
      "\n",
      "WARNING:tensorflow:From c:\\Users\\hp\\AppData\\Local\\Programs\\Python\\Python310\\lib\\site-packages\\keras\\src\\engine\\base_layer_utils.py:384: The name tf.executing_eagerly_outside_functions is deprecated. Please use tf.compat.v1.executing_eagerly_outside_functions instead.\n",
      "\n",
      "819/819 [==============================] - 98s 115ms/step - loss: 37.9645 - mae: 4.4890 - val_loss: 12.1719 - val_mae: 2.6777\n",
      "Epoch 2/10\n",
      "819/819 [==============================] - 100s 122ms/step - loss: 10.9933 - mae: 2.5796 - val_loss: 9.8924 - val_mae: 2.4517\n",
      "Epoch 3/10\n",
      "819/819 [==============================] - 99s 120ms/step - loss: 9.7999 - mae: 2.4405 - val_loss: 10.0201 - val_mae: 2.4600\n",
      "Epoch 4/10\n",
      "819/819 [==============================] - 100s 122ms/step - loss: 9.4624 - mae: 2.3929 - val_loss: 10.0440 - val_mae: 2.4547\n",
      "Epoch 5/10\n",
      "819/819 [==============================] - 99s 121ms/step - loss: 9.2635 - mae: 2.3645 - val_loss: 9.8252 - val_mae: 2.4330\n",
      "Epoch 6/10\n",
      "819/819 [==============================] - 99s 121ms/step - loss: 9.0533 - mae: 2.3338 - val_loss: 10.0581 - val_mae: 2.4433\n",
      "Epoch 7/10\n",
      "819/819 [==============================] - 101s 123ms/step - loss: 8.7986 - mae: 2.3010 - val_loss: 9.8839 - val_mae: 2.4342\n",
      "Epoch 8/10\n",
      "819/819 [==============================] - 99s 121ms/step - loss: 8.5610 - mae: 2.2774 - val_loss: 9.4936 - val_mae: 2.4037\n",
      "Epoch 9/10\n",
      "819/819 [==============================] - 96s 116ms/step - loss: 8.3016 - mae: 2.2496 - val_loss: 9.5563 - val_mae: 2.4029\n",
      "Epoch 10/10\n",
      "819/819 [==============================] - 95s 116ms/step - loss: 8.0755 - mae: 2.2220 - val_loss: 9.8962 - val_mae: 2.4482\n"
     ]
    }
   ],
   "source": [
    "# A simple LSTM-based model\n",
    "\n",
    "# Architecture\n",
    "inputs = keras.Input(shape=(sequence_length, raw_data.shape[-1]))\n",
    "x = layers.LSTM(16)(inputs)\n",
    "outputs = layers.Dense(1)(x)\n",
    "\n",
    "# Model\n",
    "model = keras.Model(inputs, outputs)\n",
    "\n",
    "# Callback\n",
    "callbacks = [\n",
    "    keras.callbacks.ModelCheckpoint(\"jena_lstm.keras\",\n",
    "                                    save_best_only=True)\n",
    "                                    ]\n",
    "\n",
    "# Compilation\n",
    "model.compile(optimizer=\"rmsprop\", loss=\"mse\", metrics=[\"mae\"])\n",
    "\n",
    "# Training\n",
    "history = model.fit(train_dataset,\n",
    "                    epochs=10,\n",
    "                    validation_data=val_dataset,\n",
    "                    callbacks=callbacks)"
   ]
  },
  {
   "cell_type": "code",
   "execution_count": 12,
   "metadata": {},
   "outputs": [],
   "source": [
    "# Loading the best model\n",
    "model = keras.models.load_model(\"jena_lstm.keras\")"
   ]
  },
  {
   "cell_type": "code",
   "execution_count": 13,
   "metadata": {},
   "outputs": [
    {
     "name": "stdout",
     "output_type": "stream",
     "text": [
      "405/405 [==============================] - 25s 59ms/step - loss: 10.6537 - mae: 2.5616\n",
      "Test MAE: 2.56\n"
     ]
    }
   ],
   "source": [
    "# Checking the performance on test data\n",
    "print(f\"Test MAE: {model.evaluate(test_dataset)[1]:.2f}\")"
   ]
  },
  {
   "cell_type": "code",
   "execution_count": 14,
   "metadata": {},
   "outputs": [
    {
     "data": {
      "image/png": "[encoded data removed]",
      "text/plain": [
       "<Figure size 640x480 with 1 Axes>"
      ]
     },
     "metadata": {},
     "output_type": "display_data"
    }
   ],
   "source": [
    "# Plotting the results\n",
    "loss = history.history[\"mae\"]\n",
    "val_loss = history.history[\"val_mae\"]\n",
    "\n",
    "epochs = range(1, len(loss) + 1)\n",
    "\n",
    "plt.figure()\n",
    "plt.plot(epochs, loss, \"bo\", label=\"Training MAE\")\n",
    "plt.plot(epochs, val_loss, \"b\", label=\"Validation MAE\")\n",
    "plt.title(\"Training and validation MAE\")\n",
    "plt.legend()\n",
    "\n",
    "plt.show()"
   ]
  },
  {
   "cell_type": "markdown",
   "metadata": {},
   "source": [
    "We achieve a validation MAE as low as 2.44 degrees and a test MAE of 2.56 degrees. \n",
    "\n",
    "The LSTM-based model can finally beat the common-sense baseline (albeit just by a bit, for now), demonstrating the value of machine learning on this task."
   ]
  },
  {
   "cell_type": "markdown",
   "metadata": {},
   "source": [
    "**Understanding RNNs**\n",
    "\n",
    "A major characteristic of all neural networks you’ve seen so far, such as densely connected networks and convnets, is that they have no memory. \n",
    "\n",
    "Each input shown to them is processed independently, with no state kept between inputs. With such networks, in order to process a sequence or a temporal series of data points, you have to show the entire sequence to the network at once: turn it into a single data point. \n",
    "\n",
    "For instance, this is what we did in the densely connected network example: we flattened our five days of data into a single large vector and processed it in one go. \n",
    "\n",
    "Such networks are called feedforward networks.\n",
    "\n",
    "The state of the RNN is reset between processing two different, independent sequences (such as two samples in a\n",
    "batch), so you still consider one sequence to be a single data point: a single input to the network. \n",
    "\n",
    "What changes is that this data point is no longer processed in a single step; rather, the network internally loops over sequence elements."
   ]
  },
  {
   "cell_type": "code",
   "execution_count": null,
   "metadata": {},
   "outputs": [],
   "source": [
    "# Pseudocode RNN\n",
    "\n",
    "\"\"\"\n",
    "state_t = 0\n",
    "\n",
    "for input_t in input_sequence:\n",
    "    output_t = f(input_t, state_t)\n",
    "    state_t = output_t\n",
    "\n",
    "\"\"\"\n",
    "\n",
    "# More-detailed pseudocode for the RNN\n",
    "\n",
    "\"\"\"\n",
    "state_t = 0\n",
    "\n",
    "for input_t in input_sequence:\n",
    "    output_t = activation(dot(W, input_t) + dot(U, state_t) + b)\n",
    "    state_t = output_t\n",
    "\"\"\""
   ]
  },
  {
   "cell_type": "code",
   "execution_count": 18,
   "metadata": {},
   "outputs": [
    {
     "name": "stdout",
     "output_type": "stream",
     "text": [
      "[[0.89229791 0.82789039 0.78321816 0.94441689 0.73679983 0.48278071\n",
      "  0.93578303 0.86801708]\n",
      " [0.99938624 0.99988908 0.99930204 0.99884121 0.99952253 0.99983915\n",
      "  0.99990404 0.99991911]\n",
      " [0.99980981 0.99997404 0.99986747 0.99927071 0.99991647 0.99997181\n",
      "  0.99993856 0.99994718]\n",
      " [0.99977294 0.99997438 0.99983583 0.99967691 0.99984014 0.99995716\n",
      "  0.99998311 0.99995027]\n",
      " [0.99992919 0.99999378 0.99997558 0.99995648 0.99987515 0.99998642\n",
      "  0.9999949  0.99998947]]\n"
     ]
    }
   ],
   "source": [
    "# NumPy implementation of a simple RNN\n",
    "\n",
    "timesteps = 5\n",
    "input_features = 4\n",
    "output_features = 8\n",
    "\n",
    "inputs = np.random.random((timesteps, input_features))\n",
    "state_t = np.zeros((output_features,))\n",
    "\n",
    "W = np.random.random((output_features, input_features))\n",
    "U = np.random.random((output_features, output_features))\n",
    "b = np.random.random((output_features,))\n",
    "\n",
    "successive_outputs = []\n",
    "\n",
    "for input_t in inputs:\n",
    "    output_t = np.tanh(np.dot(W, input_t) + np.dot(U, state_t) + b)\n",
    "    successive_outputs.append(output_t)\n",
    "    state_t = output_t\n",
    "\n",
    "final_output_sequence = np.stack(successive_outputs, axis=0)\n",
    "\n",
    "print(final_output_sequence)"
   ]
  },
  {
   "cell_type": "code",
   "execution_count": null,
   "metadata": {},
   "outputs": [],
   "source": [
    "# An RNN layer that can process sequences of any length\n",
    "\n",
    "num_features = 14\n",
    "\n",
    "# When specifying the shape argum ent of the initial Input(), note that you can set the timesteps entry to None, which enables your network to process sequences of arbitrary length. \n",
    "inputs = keras.Input(shape=(None, num_features))\n",
    "\n",
    "outputs = layers.SimpleRNN(16)(inputs)"
   ]
  },
  {
   "cell_type": "markdown",
   "metadata": {},
   "source": [
    "This is especially useful if your model is meant to process sequences of variable length.\n",
    "\n",
    "However, if all of your sequences have the same length, I recommend specifying a complete input shape, since it enables model.\n",
    "\n",
    "summary() to display output length information, which is always nice, and it can unlock some performance optimization.\n",
    "\n",
    "All recurrent layers in Keras (SimpleRNN, LSTM, and GRU) can be run in two different modes: they can return either full sequences of successive outputs for each timestep (a rank-3 tensor of shape (batch_size, timesteps, output_features)) or return only the last output for each input sequence (a rank-2 tensor of shape (batch_\n",
    "size, output_features)). \n",
    "\n",
    "These two modes are controlled by the `return_sequences` constructor argument. "
   ]
  },
  {
   "cell_type": "code",
   "execution_count": 19,
   "metadata": {},
   "outputs": [
    {
     "name": "stdout",
     "output_type": "stream",
     "text": [
      "(None, 16)\n"
     ]
    }
   ],
   "source": [
    "# An RNN layer that returns only its last output step\n",
    "\n",
    "num_features = 14\n",
    "steps = 120\n",
    "\n",
    "inputs = keras.Input(shape=(steps, num_features))\n",
    "outputs = layers.SimpleRNN(16, return_sequences=False)(inputs)\n",
    "\n",
    "print(outputs.shape)"
   ]
  },
  {
   "cell_type": "code",
   "execution_count": 20,
   "metadata": {},
   "outputs": [
    {
     "name": "stdout",
     "output_type": "stream",
     "text": [
      "(None, 120, 16)\n"
     ]
    }
   ],
   "source": [
    "# An RNN layer that returns its full output sequence\n",
    "\n",
    "num_features = 14\n",
    "steps = 120\n",
    "\n",
    "inputs = keras.Input(shape=(steps, num_features))\n",
    "outputs = layers.SimpleRNN(16, return_sequences=True)(inputs)\n",
    "\n",
    "print(outputs.shape)"
   ]
  },
  {
   "cell_type": "markdown",
   "metadata": {},
   "source": [
    "It’s sometimes useful to stack several recurrent layers one after the other in order to increase the representational power of a network. In such a setup, you have to get all of the intermediate layers to return a full sequence of outputs."
   ]
  },
  {
   "cell_type": "code",
   "execution_count": 21,
   "metadata": {},
   "outputs": [
    {
     "name": "stdout",
     "output_type": "stream",
     "text": [
      "(None, 16)\n"
     ]
    }
   ],
   "source": [
    "# Stacking RNN layers\n",
    "\n",
    "num_features = 14\n",
    "steps = 120\n",
    "\n",
    "inputs = keras.Input(shape=(steps, num_features))\n",
    "x = layers.SimpleRNN(16, return_sequences=True)(inputs)\n",
    "x = layers.SimpleRNN(16, return_sequences=True)(x)\n",
    "outputs = layers.SimpleRNN(16)(x)\n",
    "\n",
    "print(outputs.shape)"
   ]
  },
  {
   "cell_type": "markdown",
   "metadata": {},
   "source": [
    "**Using recurrent dropout to fight overfitting**\n",
    "\n",
    "It has long been known that applying dropout before a recurrent layer hinders learning rather than helping with regularization.\n",
    "\n",
    "The same dropout mask (the same pattern of dropped units) should be applied at every timestep, instead of using a dropout mask that varies randomly from timestep to timestep.\n",
    "\n",
    "What’s more, in order to regularize the representations formed by the recurrent gates of layers such as GRU and LSTM, a temporally constant dropout mask should be applied to the inner recurrent activations of the layer (a recurrent dropout mask).\n",
    "\n",
    "Using the same dropout mask at every timestep allows the network to properly propagate its learning error through time; a temporally random dropout mask would disrupt this error signal and be harmful to the learning process."
   ]
  },
  {
   "cell_type": "code",
   "execution_count": null,
   "metadata": {},
   "outputs": [],
   "source": [
    "# Training and evaluating a dropout-regularized LSTM \n",
    "# (Per epoch takes 3.5 minutes)\n",
    "\n",
    "# Architecture\n",
    "inputs = keras.Input(shape=(sequence_length, raw_data.shape[-1]))\n",
    "x = layers.LSTM(32, recurrent_dropout=0.25)(inputs)\n",
    "\n",
    "# To regularize the Dense layer, we also add a Dropout layer after the LSTM\n",
    "x = layers.Dropout(0.5)(x)\n",
    "\n",
    "outputs = layers.Dense(1)(x)\n",
    "\n",
    "# Model\n",
    "model = keras.Model(inputs, outputs)\n",
    "\n",
    "# Callback\n",
    "callbacks = [\n",
    "    keras.callbacks.ModelCheckpoint(\"jena_lstm_dropout.keras\",\n",
    "                                    save_best_only=True)\n",
    "                                    ]\n",
    "\n",
    "# Compilation\n",
    "model.compile(optimizer=\"rmsprop\", loss=\"mse\", metrics=[\"mae\"])\n",
    "\n",
    "# Training\n",
    "history = model.fit(train_dataset,\n",
    "                    epochs=50,\n",
    "                    validation_data=val_dataset,\n",
    "                    callbacks=callbacks)"
   ]
  },
  {
   "attachments": {
    "image.png": {
     "image/png": "[encoded data removed]"
    }
   },
   "cell_type": "markdown",
   "metadata": {},
   "source": [
    "![image.png](attachment:image.png)"
   ]
  },
  {
   "cell_type": "markdown",
   "metadata": {},
   "source": [
    "We’re no longer overfitting during the first 20 epochs. \n",
    "\n",
    "We achieve a validation MAE as low as 2.27 degrees (7% improvement over the no-learning baseline) and a test MAE of 2.45 degrees (6.5% improvement over the baseline). Not too bad.\n",
    "\n",
    "**RNN runtime performance**\n",
    "As a way to speed up your RNN layer when you can’t use cuDNN, you can try unrolling it. \n",
    "\n",
    "Unrolling a for loop consists of removing the loop and simply inlining its content N times. \n",
    "\n",
    "In the case of the for loop of an RNN, unrolling can help TensorFlow optimize the underlying computation graph. \n",
    "\n",
    "However, it will also considerably increase the memory consumption of your RNN—as such, it’s only viable for relatively small sequences (around 100 steps or fewer). \n",
    "\n",
    "Also, note that you can only do this if the number of timesteps in the data is known in advance by the model (that is to say, if you pass a shape without any None entries to your initial Input())\n",
    "\n",
    "```\n",
    "inputs = keras.Input(shape=(sequence_length, num_features))\n",
    "x = layers.LSTM(32, recurrent_dropout=0.2, unroll=True)(inputs)\n",
    "```"
   ]
  },
  {
   "cell_type": "markdown",
   "metadata": {},
   "source": [
    "**Stacking recurrent layers**\n",
    "\n",
    "Because we’re no longer overfitting but seem to have hit a performance bottleneck, you should consider increasing the capacity and expressive power of the network.\n",
    "\n",
    "Recurrent layer stacking is a classic way to build more-powerful recurrent networks: for instance, not too long ago the Google Translate algorithm was powered by a stack of seven large LSTM layers—that’s huge.\n",
    "\n",
    "In the following example, we’ll try a stack of two dropout-regularized recurrent layers. \n",
    "\n",
    "For a change, we’ll use Gated Recurrent Unit (GRU) layers instead of LSTM. \n",
    "\n",
    "GRU is very similar to LSTM—you can think of it as a slightly simpler, streamlined version of the LSTM architecture."
   ]
  },
  {
   "cell_type": "code",
   "execution_count": null,
   "metadata": {},
   "outputs": [],
   "source": [
    "# Training and evaluating a dropout-regularized, stacked GRU model (Per epoch takes 5 minutes)\n",
    "\n",
    "# Architecture\n",
    "inputs = keras.Input(shape=(sequence_length, raw_data.shape[-1]))\n",
    "x = layers.GRU(32, recurrent_dropout=0.5, return_sequences=True)(inputs)\n",
    "x = layers.GRU(32, recurrent_dropout=0.5)(x)\n",
    "x = layers.Dropout(0.5)(x)\n",
    "outputs = layers.Dense(1)(x)\n",
    "\n",
    "# Model\n",
    "model = keras.Model(inputs, outputs)\n",
    "\n",
    "# Callbacks\n",
    "callbacks = [\n",
    "    keras.callbacks.ModelCheckpoint(\"jena_stacked_gru_dropout.keras\",\n",
    "                                    save_best_only=True)\n",
    "                                    ]\n",
    "\n",
    "# Compilation\n",
    "model.compile(optimizer=\"rmsprop\", loss=\"mse\", metrics=[\"mae\"])\n",
    "\n",
    "# Training\n",
    "history = model.fit(train_dataset,\n",
    "                    epochs=50,\n",
    "                    validation_data=val_dataset,\n",
    "                    callbacks=callbacks)"
   ]
  },
  {
   "cell_type": "code",
   "execution_count": null,
   "metadata": {},
   "outputs": [],
   "source": [
    "# Loading the best model\n",
    "model = keras.models.load_model(\"jena_stacked_gru_dropout.keras\")\n",
    "\n",
    "# Evaluating on the test dataset\n",
    "print(f\"Test MAE: {model.evaluate(test_dataset)[1]:.2f}\")"
   ]
  },
  {
   "cell_type": "markdown",
   "metadata": {},
   "source": [
    "We achieve a test MAE of 2.39 degrees (an 8.8% improvement over the baseline). \n",
    "\n",
    "You can see that the added layer does improve the results a bit, though not dramatically. \n",
    "\n",
    "You may be seeing diminishing returns from increasing network capacity at this point."
   ]
  },
  {
   "cell_type": "markdown",
   "metadata": {},
   "source": [
    "**Using bidirectional RNNs**\n",
    "\n",
    "A bidirectional RNN exploits the order sensitivity of RNNs: it uses two regular RNNs, such as the GRU and LSTM layers you’re already familiar with, each of which processes the input sequence in one direction (chronologically and antichronologically), and then merges their representations. \n",
    "\n",
    "By processing a sequence both ways, a bidirectional RNN can catch patterns that may be overlooked by a unidirectional RNN."
   ]
  },
  {
   "attachments": {
    "image.png": {
     "image/png": "[encoded data removed]"
    }
   },
   "cell_type": "markdown",
   "metadata": {},
   "source": [
    "**Antichronological order RNN**\n",
    "\n",
    "For antichronological order RNN all you need to do is write a variant of the data generator where the input sequences are reverted along the time dimension (replace the last line with yield samples[:, ::-1, :], targets).\n",
    "\n",
    "![image.png](attachment:image.png)"
   ]
  },
  {
   "cell_type": "markdown",
   "metadata": {},
   "source": [
    "The reversed-order LSTM strongly underperforms even the common-sense baseline, indicating that in this case, chronological processing is important to the success of the approach. \n",
    "\n",
    "This makes perfect sense: the underlying LSTM layer will typically be better at remembering the recent past than the distant past, and naturally the more recent weather data points are more predictive than older data points for the problem (that’s what makes the common-sense baseline fairly strong). \n",
    "\n",
    "Thus the chronological version of the layer is bound to outperform the reversed-order version."
   ]
  },
  {
   "cell_type": "code",
   "execution_count": null,
   "metadata": {},
   "outputs": [],
   "source": [
    "# Training and evaluating a bidirectional LSTM\n",
    "\n",
    "# Architecture\n",
    "inputs = keras.Input(shape=(sequence_length, raw_data.shape[-1]))\n",
    "x = layers.Bidirectional(layers.LSTM(16))(inputs)\n",
    "outputs = layers.Dense(1)(x)\n",
    "\n",
    "# Model\n",
    "model = keras.Model(inputs, outputs)\n",
    "\n",
    "# Compilation\n",
    "model.compile(optimizer=\"rmsprop\", loss=\"mse\", metrics=[\"mae\"])\n",
    "\n",
    "# Training\n",
    "history = model.fit(train_dataset,\n",
    "                    epochs=10,\n",
    "                    validation_data=val_dataset)"
   ]
  },
  {
   "cell_type": "markdown",
   "metadata": {},
   "source": [
    "You’ll find that it doesn’t perform as well as the plain LSTM layer. \n",
    "\n",
    "It’s easy to understand why: all the predictive capacity must come from the chronological half of the\n",
    "network, because the antichronological half is known to be severely underperforming on this task (again, because the recent past matters much more than the distant past, in this case). \n",
    "\n",
    "At the same time, the presence of the antichronological half doubles the network’s capacity and causes it to start overfitting much earlier."
   ]
  }
 ],
 "metadata": {
  "kernelspec": {
   "display_name": "Python 3",
   "language": "python",
   "name": "python3"
  },
  "language_info": {
   "codemirror_mode": {
    "name": "ipython",
    "version": 3
   },
   "file_extension": ".py",
   "mimetype": "text/x-python",
   "name": "python",
   "nbconvert_exporter": "python",
   "pygments_lexer": "ipython3",
   "version": "3.10.11"
  }
 },
 "nbformat": 4,
 "nbformat_minor": 2
}
